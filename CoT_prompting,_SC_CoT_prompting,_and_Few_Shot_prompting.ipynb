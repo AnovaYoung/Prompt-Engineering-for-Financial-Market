{
  "nbformat": 4,
  "nbformat_minor": 0,
  "metadata": {
    "colab": {
      "provenance": [],
      "include_colab_link": true
    },
    "kernelspec": {
      "name": "python3",
      "display_name": "Python 3"
    },
    "language_info": {
      "name": "python"
    }
  },
  "cells": [
    {
      "cell_type": "markdown",
      "metadata": {
        "id": "view-in-github",
        "colab_type": "text"
      },
      "source": [
        "<a href=\"https://colab.research.google.com/github/AnovaYoung/Prompt-Engineering-for-Financial-Market/blob/main/CoT_prompting%2C_SC_CoT_prompting%2C_and_Few_Shot_prompting.ipynb\" target=\"_parent\"><img src=\"https://colab.research.google.com/assets/colab-badge.svg\" alt=\"Open In Colab\"/></a>"
      ]
    },
    {
      "cell_type": "markdown",
      "source": [
        "# Prompt Engineering for Financial Problem\n",
        "\n",
        "The objective of this assignment is to implement and solve a complex financial problem using advanced prompt engineering techniques in Python. The focus will be on utilizing Chain of Thought (CoT) prompting, Self-Consistency Chain of Thought (SC-CoT) prompting, and Few-Shot prompting to guide a hypothetical language model in accurately solving the problem.\n",
        "\n"
      ],
      "metadata": {
        "id": "RzC9NaH0YUPv"
      }
    },
    {
      "cell_type": "markdown",
      "source": [
        "# Part 1: Chain of Thought Prompting"
      ],
      "metadata": {
        "id": "HqwmpUrVc0aV"
      }
    },
    {
      "cell_type": "code",
      "execution_count": null,
      "metadata": {
        "colab": {
          "base_uri": "https://localhost:8080/"
        },
        "id": "YbFYoW6HXsZT",
        "outputId": "5c4ad061-1ca0-4a2c-de02-c4f04e2e5859"
      },
      "outputs": [
        {
          "output_type": "stream",
          "name": "stdout",
          "text": [
            "Year 1: Initial Value: $10325.00, Gain: $500.00, Gain After Tax: $425.00, Fee: $100.00, Final Value: $10325.00\n",
            "Year 2: Initial Value: $10751.58, Gain: $619.50, Gain After Tax: $526.57, Fee: $100.00, Final Value: $10751.58\n",
            "Year 3: Initial Value: $11017.13, Gain: $430.06, Gain After Tax: $365.55, Fee: $100.00, Final Value: $11017.13\n",
            "Year 4: Initial Value: $11198.07, Gain: $330.51, Gain After Tax: $280.94, Fee: $100.00, Final Value: $11198.07\n",
            "Year 5: Initial Value: $11764.35, Gain: $783.86, Gain After Tax: $666.28, Fee: $100.00, Final Value: $11764.35\n",
            "Final investment value: $11764.35\n"
          ]
        }
      ],
      "source": [
        "def chain_of_thought(initial_investment, annual_returns, annual_fee, tax_rate):\n",
        "    \"\"\"\n",
        "    Calculates the investment value yearly using Chain of Thought prompting,\n",
        "    considering annual returns, annual fee, and tax rate on gains.\n",
        "    \"\"\"\n",
        "    current_value = initial_investment\n",
        "    history = []  # this logs each year's calculation\n",
        "\n",
        "    for year, return_rate in enumerate(annual_returns, start=1):\n",
        "        # Calculate yearly return\n",
        "        gain = current_value * return_rate\n",
        "        # Apply tax on the gains\n",
        "        gain_after_tax = gain * (1 - tax_rate)\n",
        "        # add annual fee\n",
        "        current_value = current_value + gain_after_tax - annual_fee\n",
        "\n",
        "        # Log each step for Chain of Thought prompting\n",
        "        history.append(f\"Year {year}: Initial Value: ${current_value:.2f}, Gain: ${gain:.2f}, \"\n",
        "                       f\"Gain After Tax: ${gain_after_tax:.2f}, Fee: ${annual_fee:.2f}, \"\n",
        "                       f\"Final Value: ${current_value:.2f}\")\n",
        "\n",
        "    # Final value and the log of calculations\n",
        "    return current_value, history\n",
        "\n",
        "# Created usage:\n",
        "initial_investment = 10000  # Starting with $10,000\n",
        "annual_returns = [0.05, 0.06, 0.04, 0.03, 0.07]  # pretend returns for 5 years\n",
        "annual_fee = 100  # Fixed annual fee\n",
        "tax_rate = 0.15  # 15% tax on the gains\n",
        "\n",
        "final_value, log = chain_of_thought(initial_investment, annual_returns, annual_fee, tax_rate)\n",
        "for step in log:\n",
        "    print(step)\n",
        "print(f\"Final investment value: ${final_value:.2f}\")\n"
      ]
    },
    {
      "cell_type": "markdown",
      "source": [
        "# Part 2: Self-Consistency Chain of Thought Prompting\n",
        "\n",
        "For this part, we generate multiple reasoning paths and compare the results for consistency. We will calculate the final amount using two different methods, compare them, and log the reasoning process."
      ],
      "metadata": {
        "id": "EolsIxGuc94N"
      }
    },
    {
      "cell_type": "code",
      "source": [
        "import random\n",
        "\n",
        "def self_consistency_chain_of_thought(initial_investment, annual_returns, annual_fee, tax_rate):\n",
        "    \"\"\"\n",
        "    Implements Self-Consistency CoT by generating multiple reasoning paths\n",
        "    and comparing the final results for consistency.\n",
        "    \"\"\"\n",
        "    def calculate_path():\n",
        "        current_value = initial_investment\n",
        "        for return_rate in annual_returns:\n",
        "            gain = current_value * return_rate\n",
        "            gain_after_tax = gain * (1 - tax_rate)\n",
        "            current_value = current_value + gain_after_tax - annual_fee\n",
        "        return current_value\n",
        "\n",
        "    # Generate multiple reasoning paths\n",
        "    paths = [calculate_path() for _ in range(5)]  # im going to generate 5 paths\n",
        "    final_value = sum(paths) / len(paths)  # average of results\n",
        "\n",
        "    log = [f\"Path {i+1}: Final Value = ${path:.2f}\" for i, path in enumerate(paths)]\n",
        "    log.append(f\"Average Final Value (Self-Consistency) = ${final_value:.2f}\")\n",
        "\n",
        "    return final_value, log\n",
        "\n",
        "# Example:\n",
        "final_value_sc, log_sc = self_consistency_chain_of_thought(initial_investment, annual_returns, annual_fee, tax_rate)\n",
        "for step in log_sc:\n",
        "    print(step)\n",
        "print(f\"Final investment value (Self-Consistency): ${final_value_sc:.2f}\")\n"
      ],
      "metadata": {
        "colab": {
          "base_uri": "https://localhost:8080/"
        },
        "id": "_hpvv8cYdB2h",
        "outputId": "ddd8cb10-9295-4971-f832-677eade4d474"
      },
      "execution_count": null,
      "outputs": [
        {
          "output_type": "stream",
          "name": "stdout",
          "text": [
            "Path 1: Final Value = $11764.35\n",
            "Path 2: Final Value = $11764.35\n",
            "Path 3: Final Value = $11764.35\n",
            "Path 4: Final Value = $11764.35\n",
            "Path 5: Final Value = $11764.35\n",
            "Average Final Value (Self-Consistency) = $11764.35\n",
            "Final investment value (Self-Consistency): $11764.35\n"
          ]
        }
      ]
    },
    {
      "cell_type": "markdown",
      "source": [
        "# Part 3: Few-Shot Prompting\n",
        "\n",
        "Here, we define a simple model to simulate Few-Shot prompting by training the model on a few examples and then using it to predict the final investment value based on new inputs."
      ],
      "metadata": {
        "id": "1oB5Stifda7b"
      }
    },
    {
      "cell_type": "code",
      "source": [
        "class SimpleModel:\n",
        "    def __init__(self):\n",
        "        self.examples = []\n",
        "\n",
        "    def train(self, examples):\n",
        "        self.examples = examples\n",
        "\n",
        "    def predict(self, initial_investment, annual_returns, annual_fee, tax_rate):\n",
        "        # this is a really basic model that takes trained examples and averages them\n",
        "        return sum([chain_of_thought(initial_investment, annual_returns, annual_fee, tax_rate)[0]\n",
        "                    for _, annual_returns, annual_fee, tax_rate in self.examples]) / len(self.examples)\n",
        "\n",
        "def few_shot_prompting(model, examples, new_prompt):\n",
        "    model.train(examples)\n",
        "    return model.predict(*new_prompt)\n",
        "\n",
        "examples = [\n",
        "    (10000, [0.05, 0.06, 0.04, 0.03, 0.07], 100, 0.15),\n",
        "    (5000, [0.04, 0.05, 0.03, 0.06, 0.05], 50, 0.1)\n",
        "]\n",
        "\n",
        "new_prompt = (12000, [0.06, 0.04, 0.05, 0.03, 0.08], 120, 0.2)\n",
        "model = SimpleModel()\n",
        "predicted_value = few_shot_prompting(model, examples, new_prompt)\n",
        "print(f\"Predicted investment value using Few-Shot Prompting: ${predicted_value:.2f}\")\n"
      ],
      "metadata": {
        "colab": {
          "base_uri": "https://localhost:8080/"
        },
        "id": "wnlGFTKedfJh",
        "outputId": "7790b214-9b96-4d5a-8ac1-dc51145e33d0"
      },
      "execution_count": null,
      "outputs": [
        {
          "output_type": "stream",
          "name": "stdout",
          "text": [
            "Predicted investment value using Few-Shot Prompting: $14324.38\n"
          ]
        }
      ]
    },
    {
      "cell_type": "markdown",
      "source": [
        "**Step 1 and Step 2 look great:**\n",
        "\n",
        "Chain of Thought Prompting accurately logs the detailed year-by-year breakdown of the investment.\n",
        "Self-Consistency CoT Prompting provides consistent results across multiple paths, which shows that the logic is correct!\n",
        "\n",
        "**Step 3 (Few-Shot Prompting):**\n",
        "\n",
        "The predicted value from Few-Shot Prompting seems to be higher than the other methods, which makes sense because it's based on the training examples provided. The model averages results from the examples.\n"
      ],
      "metadata": {
        "id": "ChySu0Rae8YR"
      }
    },
    {
      "cell_type": "markdown",
      "source": [
        "# Enhancing Chain of Thought Prompting\n",
        "\n",
        "Varying annual fees or tax rates: This will simulate more realistic scenarios where fees or taxes might change over time.\n",
        "Different investment scenarios (e.g., withdrawal or additional contributions)"
      ],
      "metadata": {
        "id": "Xim_dBeHfEsY"
      }
    },
    {
      "cell_type": "code",
      "source": [
        "def chain_of_thought_v2(initial_investment, annual_returns, annual_fees, tax_rates, additional_contributions=None):\n",
        "    \"\"\"\n",
        "    Calculates the investment value yearly considering varying annual returns,\n",
        "    fees, tax rates, and optional additional contributions.\n",
        "    \"\"\"\n",
        "    current_value = initial_investment\n",
        "    history = []\n",
        "\n",
        "    for year, (return_rate, fee, tax_rate) in enumerate(zip(annual_returns, annual_fees, tax_rates), start=1):\n",
        "        # Calculate yearly return\n",
        "        gain = current_value * return_rate\n",
        "        gain_after_tax = gain * (1 - tax_rate)\n",
        "\n",
        "        # Apply optional contributions\n",
        "        if additional_contributions and year in additional_contributions:\n",
        "            current_value += additional_contributions[year]\n",
        "            history.append(f\"Year {year}: Additional contribution of ${additional_contributions[year]:.2f}\")\n",
        "\n",
        "        # Apply fee and then calculate final values for the year\n",
        "        current_value = current_value + gain_after_tax - fee\n",
        "        history.append(f\"Year {year}: Initial Value: ${current_value:.2f}, Gain: ${gain:.2f}, \"\n",
        "                       f\"Gain After Tax: ${gain_after_tax:.2f}, Fee: ${fee:.2f}, \"\n",
        "                       f\"Final Value: ${current_value:.2f}\")\n",
        "\n",
        "    return current_value, history\n",
        "\n",
        "# Example again:\n",
        "annual_fees = [100, 120, 110, 130, 115]  # Varying fees each year\n",
        "tax_rates = [0.15, 0.18, 0.12, 0.20, 0.10]  # Varying tax rates\n",
        "additional_contributions = {2: 500, 4: 1000}  # Optional contributions in year 2 and year 4\n",
        "\n",
        "final_value_v2, log_v2 = chain_of_thought_v2(initial_investment, annual_returns, annual_fees, tax_rates, additional_contributions)\n",
        "for step in log_v2:\n",
        "    print(step)\n",
        "print(f\"Final investment value: ${final_value_v2:.2f}\")\n"
      ],
      "metadata": {
        "colab": {
          "base_uri": "https://localhost:8080/"
        },
        "id": "Uh0g9dvcfTVP",
        "outputId": "95e67548-2107-4702-9c24-07755a462a3c"
      },
      "execution_count": null,
      "outputs": [
        {
          "output_type": "stream",
          "name": "stdout",
          "text": [
            "Year 1: Initial Value: $10325.00, Gain: $500.00, Gain After Tax: $425.00, Fee: $100.00, Final Value: $10325.00\n",
            "Year 2: Additional contribution of $500.00\n",
            "Year 2: Initial Value: $11212.99, Gain: $619.50, Gain After Tax: $507.99, Fee: $120.00, Final Value: $11212.99\n",
            "Year 3: Initial Value: $11497.69, Gain: $448.52, Gain After Tax: $394.70, Fee: $110.00, Final Value: $11497.69\n",
            "Year 4: Additional contribution of $1000.00\n",
            "Year 4: Initial Value: $12643.63, Gain: $344.93, Gain After Tax: $275.94, Fee: $130.00, Final Value: $12643.63\n",
            "Year 5: Initial Value: $13325.18, Gain: $885.05, Gain After Tax: $796.55, Fee: $115.00, Final Value: $13325.18\n",
            "Final investment value: $13325.18\n"
          ]
        }
      ]
    },
    {
      "cell_type": "markdown",
      "source": [
        "# Enhancing Self-Consistency Chain of Thought\n"
      ],
      "metadata": {
        "id": "wspWdZZ-fWtv"
      }
    },
    {
      "cell_type": "code",
      "source": [
        "def self_consistency_chain_of_thought_v2(initial_investment, annual_returns, annual_fees, tax_rates, num_paths=5):\n",
        "    \"\"\"\n",
        "    Implements Self-Consistency CoT by generating multiple reasoning paths\n",
        "    with varying returns and fees, then compares for consistency.\n",
        "    \"\"\"\n",
        "    def calculate_path(annual_returns, annual_fees):\n",
        "        current_value = initial_investment\n",
        "        for return_rate, fee, tax_rate in zip(annual_returns, annual_fees, tax_rates):\n",
        "            gain = current_value * return_rate\n",
        "            gain_after_tax = gain * (1 - tax_rate)\n",
        "            current_value = current_value + gain_after_tax - fee\n",
        "        return current_value\n",
        "\n",
        "    paths = [calculate_path(\n",
        "                [r + random.uniform(-0.02, 0.02) for r in annual_returns],  # Add random variation to the returns\n",
        "                [f + random.uniform(-20, 20) for f in annual_fees]  # now add random variation to the fees\n",
        "             ) for _ in range(num_paths)]\n",
        "\n",
        "    final_value = sum(paths) / len(paths)\n",
        "    log = [f\"Path {i+1}: Final Value = ${path:.2f}\" for i, path in enumerate(paths)]\n",
        "    log.append(f\"Average Final Value (Self-Consistency) = ${final_value:.2f}\")\n",
        "\n",
        "    return final_value, log\n",
        "\n",
        "# example usage:\n",
        "final_value_sc_v2, log_sc_v2 = self_consistency_chain_of_thought_v2(initial_investment, annual_returns, annual_fees, tax_rates)\n",
        "for step in log_sc_v2:\n",
        "    print(step)\n",
        "print(f\"Final investment value (Self-Consistency): ${final_value_sc_v2:.2f}\")\n"
      ],
      "metadata": {
        "colab": {
          "base_uri": "https://localhost:8080/"
        },
        "id": "bUl9hFJJfdHv",
        "outputId": "09566974-0f2d-47f7-e0fe-dab8e1eabc37"
      },
      "execution_count": null,
      "outputs": [
        {
          "output_type": "stream",
          "name": "stdout",
          "text": [
            "Path 1: Final Value = $11679.79\n",
            "Path 2: Final Value = $11552.19\n",
            "Path 3: Final Value = $11529.37\n",
            "Path 4: Final Value = $11647.87\n",
            "Path 5: Final Value = $11694.73\n",
            "Average Final Value (Self-Consistency) = $11620.79\n",
            "Final investment value (Self-Consistency): $11620.79\n"
          ]
        }
      ]
    },
    {
      "cell_type": "markdown",
      "source": [
        "# Enhancing Few-Shot Prompting\n",
        "\n",
        "To improve the Few-Shot prompting, I'm going to adjust the SimpleModel class to:\n",
        "\n",
        "Handle different types of investment strategies (e.g., aggressive, conservative).\n",
        "Introduce new examples with more detailed financial scenarios, allowing the model to learn different behaviors.\n"
      ],
      "metadata": {
        "id": "ji9xNi6afjc5"
      }
    },
    {
      "cell_type": "code",
      "source": [
        "class EnhancedSimpleModel:\n",
        "    def __init__(self):\n",
        "        self.examples = []\n",
        "\n",
        "    def train(self, examples):\n",
        "        self.examples = examples\n",
        "\n",
        "    def predict(self, initial_investment, annual_returns, annual_fee, tax_rate, strategy=\"balanced\"):\n",
        "        if strategy == \"aggressive\":\n",
        "            annual_returns = [r + 0.02 for r in annual_returns]  # Boosting for an aggressive strategy\n",
        "        elif strategy == \"conservative\":\n",
        "            annual_returns = [r - 0.02 for r in annual_returns]  # Reducing for a conservative strategy\n",
        "\n",
        "        return sum([chain_of_thought(initial_investment, annual_returns, annual_fee, tax_rate)[0]\n",
        "                    for _, annual_returns, annual_fee, tax_rate in self.examples]) / len(self.examples)\n",
        "\n",
        "def few_shot_prompting_v2(model, examples, new_prompt, strategy=\"balanced\"):\n",
        "    model.train(examples)\n",
        "    return model.predict(*new_prompt, strategy)\n",
        "\n",
        "# Example usage:\n",
        "new_prompt_v2 = (12000, [0.06, 0.04, 0.05, 0.03, 0.08], 120, 0.2)\n",
        "model_v2 = EnhancedSimpleModel()\n",
        "\n",
        "# Test with a totally different strategy:\n",
        "predicted_value_aggressive = few_shot_prompting_v2(model_v2, examples, new_prompt_v2, strategy=\"aggressive\")\n",
        "predicted_value_conservative = few_shot_prompting_v2(model_v2, examples, new_prompt_v2, strategy=\"conservative\")\n",
        "print(f\"Predicted value (aggressive strategy): ${predicted_value_aggressive:.2f}\")\n",
        "print(f\"Predicted value (conservative strategy): ${predicted_value_conservative:.2f}\")\n"
      ],
      "metadata": {
        "colab": {
          "base_uri": "https://localhost:8080/"
        },
        "id": "R6Mi1FTufnK4",
        "outputId": "59b78480-1d19-495e-c587-9c923a874804"
      },
      "execution_count": null,
      "outputs": [
        {
          "output_type": "stream",
          "name": "stdout",
          "text": [
            "Predicted value (aggressive strategy): $14324.38\n",
            "Predicted value (conservative strategy): $14324.38\n"
          ]
        }
      ]
    },
    {
      "cell_type": "markdown",
      "source": [
        "Both the **aggressive** and **conservative** strategies returned the same value, **$14,324.38**, likely because the examples I used for training didn’t vary enough to differentiate between these strategies.\n",
        "\n"
      ],
      "metadata": {
        "id": "SvlVcakkh28w"
      }
    },
    {
      "cell_type": "markdown",
      "source": [
        "# Refining Few-Shot Prompting with More Diverse Training Examples"
      ],
      "metadata": {
        "id": "FnxLaJ_8hh5J"
      }
    },
    {
      "cell_type": "code",
      "source": [
        "class EnhancedSimpleModel:\n",
        "    def __init__(self):\n",
        "        self.examples = []\n",
        "\n",
        "    def train(self, examples):\n",
        "        self.examples = examples\n",
        "\n",
        "    def predict(self, initial_investment, annual_returns, annual_fee, tax_rate, strategy=\"balanced\"):\n",
        "        # Adjust returns based on strategy\n",
        "        if strategy == \"aggressive\":\n",
        "            annual_returns = [r + 0.03 for r in annual_returns]  # Increase again for aggressive\n",
        "        elif strategy == \"conservative\":\n",
        "            annual_returns = [r - 0.02 for r in annual_returns]  # Decrease now for conservative\n",
        "\n",
        "        # Prediction is based on trained examples\n",
        "        return sum([chain_of_thought(initial_investment, annual_returns, annual_fee, tax_rate)[0]\n",
        "                    for _, annual_returns, annual_fee, tax_rate in self.examples]) / len(self.examples)\n",
        "\n",
        "def few_shot_prompting_v3(model, examples, new_prompt, strategy=\"balanced\"):\n",
        "    model.train(examples)\n",
        "    return model.predict(*new_prompt, strategy)\n",
        "\n",
        "# Add more diverse examples:\n",
        "examples_v3 = [\n",
        "    (10000, [0.07, 0.06, 0.05, 0.04, 0.08], 100, 0.15),  # Aggressive\n",
        "    (8000, [0.03, 0.04, 0.03, 0.05, 0.04], 90, 0.12),    # Conservative\n",
        "    (15000, [0.05, 0.06, 0.04, 0.06, 0.07], 110, 0.13),  # Balanced\n",
        "    (12000, [0.06, 0.04, 0.05, 0.03, 0.07], 100, 0.18),  # Moderate\n",
        "]\n",
        "\n",
        "new_prompt_v3 = (12000, [0.05, 0.04, 0.05, 0.04, 0.06], 100, 0.18)\n",
        "model_v3 = EnhancedSimpleModel()\n",
        "\n",
        "# different strategies:\n",
        "predicted_value_aggressive_v3 = few_shot_prompting_v3(model_v3, examples_v3, new_prompt_v3, strategy=\"aggressive\")\n",
        "predicted_value_conservative_v3 = few_shot_prompting_v3(model_v3, examples_v3, new_prompt_v3, strategy=\"conservative\")\n",
        "predicted_value_balanced_v3 = few_shot_prompting_v3(model_v3, examples_v3, new_prompt_v3, strategy=\"balanced\")\n",
        "\n",
        "print(f\"Predicted value (aggressive strategy): ${predicted_value_aggressive_v3:.2f}\")\n",
        "print(f\"Predicted value (conservative strategy): ${predicted_value_conservative_v3:.2f}\")\n",
        "print(f\"Predicted value (balanced strategy): ${predicted_value_balanced_v3:.2f}\")\n"
      ],
      "metadata": {
        "colab": {
          "base_uri": "https://localhost:8080/"
        },
        "id": "Wy4Klq0PheyM",
        "outputId": "3333826e-48ee-4e6a-b15b-cef50d57641a"
      },
      "execution_count": null,
      "outputs": [
        {
          "output_type": "stream",
          "name": "stdout",
          "text": [
            "Predicted value (aggressive strategy): $14305.43\n",
            "Predicted value (conservative strategy): $14305.43\n",
            "Predicted value (balanced strategy): $14305.43\n"
          ]
        }
      ]
    },
    {
      "cell_type": "markdown",
      "source": [
        "# Adding Complexity in Self-Consistency CoT\n",
        "\n",
        "Ok here is a extreme version with major variations, random events (like windfalls and crashes), and significant changes to tax rates and fees to simulate a much more volatile environment:"
      ],
      "metadata": {
        "id": "pZ3dbGJ7hpqH"
      }
    },
    {
      "cell_type": "code",
      "source": [
        "import random\n",
        "\n",
        "def dramatic_self_consistency_cot(initial_investment, base_annual_returns, base_annual_fees, base_tax_rates, num_paths=5):\n",
        "\n",
        "    def random_event(year):\n",
        "        # Simulate windfalls or crashes in the market\n",
        "        event_type = random.choice([\"none\", \"windfall\", \"crash\"])\n",
        "        if event_type == \"windfall\":\n",
        "            return random.uniform(0.3, 0.5)  # Big positive returns\n",
        "        elif event_type == \"crash\":\n",
        "            return random.uniform(-0.4, -0.2)  # Huge negative returns\n",
        "        else:\n",
        "            return 0  # No event\n",
        "\n",
        "    def calculate_dramatic_path():\n",
        "        current_value = initial_investment\n",
        "        history = []\n",
        "\n",
        "        for year, (return_rate, fee, tax_rate) in enumerate(zip(base_annual_returns, base_annual_fees, base_tax_rates), start=1):\n",
        "            # Introduce random events (windfall or crash) each year\n",
        "            event_impact = random_event(year)\n",
        "            dramatic_return_rate = return_rate + event_impact  # Add the event to the base return rate\n",
        "\n",
        "            # Simulate random large variations in fees and tax rates\n",
        "            dramatic_fee = fee + random.uniform(-300, 300)  # Large variation in fees\n",
        "            dramatic_tax_rate = tax_rate + random.uniform(-0.15, 0.15)  # Large variation in tax rates\n",
        "\n",
        "            # Calculate the yearly gain or loss after applying the event and tax rate\n",
        "            gain = current_value * dramatic_return_rate\n",
        "            gain_after_tax = gain * (1 - dramatic_tax_rate)\n",
        "\n",
        "            # Update the current value after fee deduction\n",
        "            current_value = current_value + gain_after_tax - dramatic_fee\n",
        "\n",
        "            # Log each year's calculation for dramatic effect\n",
        "            history.append(f\"Year {year}: Initial Value: ${current_value:.2f}, \"\n",
        "                           f\"Return: {dramatic_return_rate:.2%}, Gain: ${gain:.2f}, \"\n",
        "                           f\"Gain After Tax: ${gain_after_tax:.2f}, Fee: ${dramatic_fee:.2f}, \"\n",
        "                           f\"Final Value: ${current_value:.2f}\")\n",
        "\n",
        "        return current_value, history\n",
        "\n",
        "    # I'll generate multiple dramatic paths and compare the outcomes\n",
        "    paths = []\n",
        "    for _ in range(num_paths):\n",
        "        final_value, path_log = calculate_dramatic_path()\n",
        "        paths.append((final_value, path_log))\n",
        "\n",
        "    # Now calculate the average final value for consistency\n",
        "    average_final_value = sum(path[0] for path in paths) / len(paths)\n",
        "\n",
        "    # Return the dramatic paths and average the final value\n",
        "    log = [f\"Path {i+1} Final Value = ${path[0]:.2f}\" for i, path in enumerate(paths)]\n",
        "    log.append(f\"Average Final Value (Self-Consistency) = ${average_final_value:.2f}\")\n",
        "\n",
        "    # Combine all logs from each path into one log\n",
        "    for i, path in enumerate(paths):\n",
        "        log.append(f\"---- Path {i+1} Details ----\")\n",
        "        log.extend(path[1])  # this appends the detailed log for each path\n",
        "\n",
        "    return average_final_value, log\n",
        "\n",
        "# Example\n",
        "base_annual_returns = [0.05, 0.06, 0.04, 0.03, 0.07]  # Base returns for 5 years\n",
        "base_annual_fees = [100, 120, 110, 130, 115]  # Base fees\n",
        "base_tax_rates = [0.15, 0.18, 0.12, 0.20, 0.10]  # Base tax rates\n",
        "\n",
        "# Run the dramatic Self-Consistency CoT\n",
        "average_final_value_dramatic, dramatic_log = dramatic_self_consistency_cot(10000, base_annual_returns, base_annual_fees, base_tax_rates, num_paths=5)\n",
        "\n",
        "# results\n",
        "for step in dramatic_log:\n",
        "    print(step)\n",
        "print(f\"\\nDramatic average final investment value: ${average_final_value_dramatic:.2f}\")\n"
      ],
      "metadata": {
        "colab": {
          "base_uri": "https://localhost:8080/"
        },
        "id": "j7gUxFFOhylt",
        "outputId": "dff9e5a8-ad95-4c73-d6ef-1e6bd5fc20d2"
      },
      "execution_count": null,
      "outputs": [
        {
          "output_type": "stream",
          "name": "stdout",
          "text": [
            "Path 1 Final Value = $10121.91\n",
            "Path 2 Final Value = $20690.34\n",
            "Path 3 Final Value = $9626.56\n",
            "Path 4 Final Value = $9487.70\n",
            "Path 5 Final Value = $14877.59\n",
            "Average Final Value (Self-Consistency) = $12960.82\n",
            "---- Path 1 Details ----\n",
            "Year 1: Initial Value: $7773.08, Return: -28.04%, Gain: $-2803.63, Gain After Tax: $-2310.33, Fee: $-83.41, Final Value: $7773.08\n",
            "Year 2: Initial Value: $8170.18, Return: 6.00%, Gain: $466.38, Gain After Tax: $450.98, Fee: $53.88, Final Value: $8170.18\n",
            "Year 3: Initial Value: $5762.16, Return: -26.03%, Gain: $-2126.50, Gain After Tax: $-2050.97, Fee: $357.05, Final Value: $5762.16\n",
            "Year 4: Initial Value: $7249.35, Return: 42.04%, Gain: $2422.47, Gain After Tax: $1798.57, Fee: $311.37, Final Value: $7249.35\n",
            "Year 5: Initial Value: $10121.91, Return: 44.45%, Gain: $3222.25, Gain After Tax: $3106.71, Fee: $234.15, Final Value: $10121.91\n",
            "---- Path 2 Details ----\n",
            "Year 1: Initial Value: $14265.04, Return: 52.62%, Gain: $5261.89, Gain After Tax: $4545.66, Fee: $280.62, Final Value: $14265.04\n",
            "Year 2: Initial Value: $19317.89, Return: 46.71%, Gain: $6663.07, Gain After Tax: $5469.55, Fee: $416.70, Final Value: $19317.89\n",
            "Year 3: Initial Value: $15713.08, Return: -19.60%, Gain: $-3787.19, Gain After Tax: $-3381.39, Fee: $223.43, Final Value: $15713.08\n",
            "Year 4: Initial Value: $19687.41, Return: 38.16%, Gain: $5996.42, Gain After Tax: $3934.80, Fee: $-39.54, Final Value: $19687.41\n",
            "Year 5: Initial Value: $20690.34, Return: 7.00%, Gain: $1378.12, Gain After Tax: $1362.52, Fee: $359.60, Final Value: $20690.34\n",
            "---- Path 3 Details ----\n",
            "Year 1: Initial Value: $10196.58, Return: 5.00%, Gain: $500.00, Gain After Tax: $453.53, Fee: $256.95, Final Value: $10196.58\n",
            "Year 2: Initial Value: $13529.84, Return: 46.25%, Gain: $4715.71, Gain After Tax: $3316.77, Fee: $-16.48, Final Value: $13529.84\n",
            "Year 3: Initial Value: $8848.42, Return: -33.92%, Gain: $-4588.66, Gain After Tax: $-4636.22, Fee: $45.20, Final Value: $8848.42\n",
            "Year 4: Initial Value: $8972.81, Return: 3.00%, Gain: $265.45, Gain After Tax: $214.91, Fee: $90.53, Final Value: $8972.81\n",
            "Year 5: Initial Value: $9626.56, Return: 7.00%, Gain: $628.10, Gain After Tax: $553.86, Fee: $-99.90, Final Value: $9626.56\n",
            "---- Path 4 Details ----\n",
            "Year 1: Initial Value: $8236.94, Return: -24.12%, Gain: $-2411.93, Gain After Tax: $-1888.89, Fee: $-125.83, Final Value: $8236.94\n",
            "Year 2: Initial Value: $8217.21, Return: 6.00%, Gain: $494.22, Gain After Tax: $396.77, Fee: $416.51, Final Value: $8217.21\n",
            "Year 3: Initial Value: $12397.87, Return: 49.82%, Gain: $4094.14, Gain After Tax: $4144.78, Fee: $-35.89, Final Value: $12397.87\n",
            "Year 4: Initial Value: $12431.45, Return: 3.00%, Gain: $371.94, Gain After Tax: $245.92, Fee: $212.34, Final Value: $12431.45\n",
            "Year 5: Initial Value: $9487.70, Return: -25.69%, Gain: $-3193.21, Gain After Tax: $-2571.03, Fee: $372.72, Final Value: $9487.70\n",
            "---- Path 5 Details ----\n",
            "Year 1: Initial Value: $13215.80, Return: 38.13%, Gain: $3812.67, Gain After Tax: $3230.55, Fee: $14.75, Final Value: $13215.80\n",
            "Year 2: Initial Value: $13625.44, Return: 6.00%, Gain: $792.95, Gain After Tax: $633.27, Fee: $223.64, Final Value: $13625.44\n",
            "Year 3: Initial Value: $18217.55, Return: 45.92%, Gain: $6257.26, Gain After Tax: $4718.41, Fee: $126.29, Final Value: $18217.55\n",
            "Year 4: Initial Value: $18644.24, Return: 3.00%, Gain: $546.53, Gain After Tax: $504.85, Fee: $78.17, Final Value: $18644.24\n",
            "Year 5: Initial Value: $14877.59, Return: -21.78%, Gain: $-4061.20, Gain After Tax: $-3463.59, Fee: $303.06, Final Value: $14877.59\n",
            "\n",
            "Dramatic average final investment value: $12960.82\n"
          ]
        }
      ]
    },
    {
      "cell_type": "markdown",
      "source": [
        "# Visualization Using Matplotlib"
      ],
      "metadata": {
        "id": "RyEUbPJmh2qt"
      }
    },
    {
      "cell_type": "code",
      "source": [
        "import matplotlib.pyplot as plt\n",
        "\n",
        "def visualize_investment_growth(years, values, title):\n",
        "    plt.plot(years, values, marker='o', linestyle='-', color='b')\n",
        "    plt.title(title)\n",
        "    plt.xlabel(\"Year\")\n",
        "    plt.ylabel(\"Investment Value ($)\")\n",
        "    plt.grid(True)\n",
        "    plt.show()\n",
        "\n",
        "# Example: Visualizing a path from Self-Consistency CoT\n",
        "years = list(range(1, 6))\n",
        "values = [10325, 11212.99, 11497.69, 12643.63, 13325.18]  # Replace with actual values from your paths\n",
        "visualize_investment_growth(years, values, \"Investment Growth Over Time\")\n"
      ],
      "metadata": {
        "colab": {
          "base_uri": "https://localhost:8080/",
          "height": 472
        },
        "id": "W8X-x5u_h55r",
        "outputId": "e6ba23d1-d8dd-4d2b-a401-eacc9e3dec76"
      },
      "execution_count": null,
      "outputs": [
        {
          "output_type": "display_data",
          "data": {
            "text/plain": [
              "<Figure size 640x480 with 1 Axes>"
            ],
            "image/png": "[encoded data removed]"
          },
          "metadata": {}
        }
      ]
    }
  ]
}